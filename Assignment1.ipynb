{
  "nbformat": 4,
  "nbformat_minor": 0,
  "metadata": {
    "colab": {
      "provenance": []
    },
    "kernelspec": {
      "name": "python3",
      "display_name": "Python 3"
    },
    "language_info": {
      "name": "python"
    }
  },
  "cells": [
    {
      "cell_type": "markdown",
      "source": [
        "**Python Basics Assignment**\n",
        "\n",
        "---\n",
        "\n"
      ],
      "metadata": {
        "id": "KfGLDgBY166Z"
      }
    },
    {
      "cell_type": "markdown",
      "source": [
        "**1.What is Python, and why is it popular ?**\n",
        "\n",
        "Python is a versatile, high-level programming language known for its readability and ease of use. Its popularity stems from its flexibility, It is use in various fields, and a strong community supporting developers.\n",
        "\n",
        "Why Python is Popular:\n",
        "\n",
        "--1. It is widely used in the Indstry.\n",
        "\n",
        "--2. Python has a lot of libraries.\n",
        "\n",
        "--3.Python's syntax is simple and resembles plain English, making it beginner-friendly.\n",
        "2. **What is an interpreter in Python ?**\n",
        "--Python executes the code line by line i.e., Python is an interpreter language. As we know the computer can’t understand our language, it can only understand the machine language i.e., binary language. So, the Python interpreter converts the code written in python language by the user to the language which computer hardware or system can understand. It does all the time whenever you run your python script.\n",
        "---The Python interpreter first reads the command, then evaluates the command, prints the results, and then again loops it back to read the command and because of this only Python is known as REPL i.e., (Read, Evaluate, Print, Loop).\n",
        "\n",
        "3**.What are pre-defined keywords in Python ?**\n",
        "--Python has a set of keywords that are reserved words that cannot be used as variable names, function names, or any other identifiers:\n"
      ],
      "metadata": {
        "id": "iLnzQdXAGqCD"
      }
    },
    {
      "cell_type": "code",
      "source": [
        "# printing all keywords at once using \"kwlist()\"\n",
        "import keyword\n",
        "print(\"The list of keywords is : \")\n",
        "print(keyword.kwlist)"
      ],
      "metadata": {
        "colab": {
          "base_uri": "https://localhost:8080/"
        },
        "id": "2fFhUJWglIvo",
        "outputId": "212a3484-dd13-4de7-c0b9-2191a95d43cf"
      },
      "execution_count": null,
      "outputs": [
        {
          "output_type": "stream",
          "name": "stdout",
          "text": [
            "The list of keywords is : \n",
            "['False', 'None', 'True', 'and', 'as', 'assert', 'async', 'await', 'break', 'class', 'continue', 'def', 'del', 'elif', 'else', 'except', 'finally', 'for', 'from', 'global', 'if', 'import', 'in', 'is', 'lambda', 'nonlocal', 'not', 'or', 'pass', 'raise', 'return', 'try', 'while', 'with', 'yield']\n"
          ]
        }
      ]
    },
    {
      "cell_type": "markdown",
      "source": [
        "**4.Can keywords be used as variable name?**\n",
        "--Python keywords cannot be used as variable name. If you give a variable an illegal name, you will get a syntax error:"
      ],
      "metadata": {
        "id": "cXL2FCp3rWpp"
      }
    },
    {
      "cell_type": "markdown",
      "source": [
        "**5.What is mutability in Python?**\n",
        "--- Mutablity means we can edit or modidied list,dic & set data type in Python.\n"
      ],
      "metadata": {
        "id": "eAdGO06pvHP6"
      }
    },
    {
      "cell_type": "code",
      "source": [
        "# example of mutability.\n",
        "x=[1,2,3]\n",
        "y= x\n",
        "y.append(4) # We can add 4 to the existing List (x)\n",
        "print(x)"
      ],
      "metadata": {
        "colab": {
          "base_uri": "https://localhost:8080/"
        },
        "id": "2nvc4rVHvjZj",
        "outputId": "1994ef8c-4779-477f-c359-1b1c016e26ae"
      },
      "execution_count": null,
      "outputs": [
        {
          "output_type": "stream",
          "name": "stdout",
          "text": [
            "[1, 2, 3, 4]\n"
          ]
        }
      ]
    },
    {
      "cell_type": "markdown",
      "source": [
        "**6.Why are lists mutable, but tuples are immutable?**\n",
        "\n",
        "--List allocate extra memory to allow resizing ,which suppots mutation efficiency.whereas Memory allocated for the tuple corresponds exactly to its size . No extra memory is allocated for future growth because tuples are immutable.\n",
        "\n",
        "7**.What is the difference between “==” and “is” operators in Python?**\n",
        "--The ‘==’ is known as the equality operator.When the variables on either side have the exact same value, the == operator evaluation is true. Otherwise, it will evaluate as False.\n",
        "Whereas The ‘is’ is known as the identity operator.The is operator checks if two variables point to the same object in memory. It returns True if both variables are referring to the exact same object. If they point to different objects, even if the values are the same, it returns False.\n",
        "\n",
        "For Example--"
      ],
      "metadata": {
        "id": "FE2l8UAi3w7o"
      }
    },
    {
      "cell_type": "code",
      "source": [
        "\n",
        "x = [1,2,3,4]\n",
        "y = [1,2,3,4]\n",
        "z = x\n",
        "# Equality comparison (==)\n",
        "if x==y:\n",
        "  print(\"True\")\n",
        "else:\n",
        "  print(\"False\")"
      ],
      "metadata": {
        "colab": {
          "base_uri": "https://localhost:8080/"
        },
        "id": "4x_lCfGKEmmK",
        "outputId": "7a6b6777-4030-4b59-bcb8-c336ad6305f2"
      },
      "execution_count": null,
      "outputs": [
        {
          "output_type": "stream",
          "name": "stdout",
          "text": [
            "True\n"
          ]
        }
      ]
    },
    {
      "cell_type": "markdown",
      "source": [],
      "metadata": {
        "id": "EeMgPpLthrVq"
      }
    },
    {
      "cell_type": "code",
      "source": [
        "x = [1,2,3,4]\n",
        "y = [1,2,3,4]\n",
        "z = x\n",
        "# Case 1: Identity comparison (is)\n",
        "if x is y:\n",
        "  print(\"True\")\n",
        "else:\n",
        "  print(\"False\")\n",
        " # Case 2: Comparing references (is)\n",
        "  if x is z:\n",
        "    print(\"True\")\n",
        "  else:\n",
        "    print(\"False\")\n"
      ],
      "metadata": {
        "colab": {
          "base_uri": "https://localhost:8080/"
        },
        "id": "z3qu5ZzDFMEw",
        "outputId": "8dcc7af1-1e6e-4452-9037-3b509caff41e"
      },
      "execution_count": null,
      "outputs": [
        {
          "output_type": "stream",
          "name": "stdout",
          "text": [
            "False\n",
            "True\n"
          ]
        }
      ]
    },
    {
      "cell_type": "markdown",
      "source": [
        "**8.What are logical operators in Python ?**\n",
        "\n",
        "--In Python, Logical operators are used on conditional statements (either True or False). They perform Logical **AND**, Logical **OR**, and Logical **NOT** operations.\n",
        "Operator\tDescription\tSyntax\tExample\n",
        "\n",
        "**and**--\tReturns True if both *the operands are true*\t        x and y\t      \n",
        "\n",
        "**or**--  Returns True *if either of the operands is true*\t    x or y\t     \n",
        "\n",
        "**not**--\tReturns True if the operand is false\t             not x\t       \n",
        "\n",
        "\n",
        "9**.What is type casting in Python?**\n",
        "\n",
        "--Type Casting is the method to convert the Python variable datatype into a certain data type in order to perform the required operation by users.\n",
        "There can be two types of Type Casting in Python:\n",
        "\n",
        "Python Implicit Type Conversion\n",
        "Python Explicit Type Conversion\n",
        "\n",
        "10.What is the difference between implicit and explicit type casting?"
      ],
      "metadata": {
        "id": "nX5mJ00eiQKM"
      }
    },
    {
      "cell_type": "markdown",
      "source": [
        "10**.What is the difference between implicit and explicit type casting?**\n",
        "\n",
        "**Implicit Type Conversion in Python**\n",
        "\n",
        "--In this, method, Python converts the datatype into another datatype automatically."
      ],
      "metadata": {
        "id": "rCxQcCqepnF0"
      }
    },
    {
      "cell_type": "code",
      "source": [
        "# implicit type Casting\n",
        "\n",
        "# Python automatically converts\n",
        "# a to int\n",
        "a = 7\n",
        "print(type(a))"
      ],
      "metadata": {
        "colab": {
          "base_uri": "https://localhost:8080/"
        },
        "id": "v5LUn7YJrkeG",
        "outputId": "671dbc38-5fb7-41a9-a33a-517c10fe2fac"
      },
      "execution_count": null,
      "outputs": [
        {
          "output_type": "stream",
          "name": "stdout",
          "text": [
            "<class 'int'>\n"
          ]
        }
      ]
    },
    {
      "cell_type": "code",
      "source": [
        "# Python automatically converts\n",
        "# b to float\n",
        "b = 3.0\n",
        "print(type(b))"
      ],
      "metadata": {
        "colab": {
          "base_uri": "https://localhost:8080/"
        },
        "id": "pkck5SJdsOaM",
        "outputId": "bf086252-40d3-452a-bb3a-680a1c649324"
      },
      "execution_count": null,
      "outputs": [
        {
          "output_type": "stream",
          "name": "stdout",
          "text": [
            "<class 'float'>\n"
          ]
        }
      ]
    },
    {
      "cell_type": "code",
      "source": [
        " # Python automatically converts\n",
        "# c to float as it is a float addition\n",
        "c = a + b\n",
        "print(c)\n",
        "print(type(c))"
      ],
      "metadata": {
        "colab": {
          "base_uri": "https://localhost:8080/"
        },
        "id": "dK6vKrVesZac",
        "outputId": "880ec9c7-da14-431d-dc0e-a4755741cf42"
      },
      "execution_count": null,
      "outputs": [
        {
          "output_type": "stream",
          "name": "stdout",
          "text": [
            "10.0\n",
            "<class 'float'>\n"
          ]
        }
      ]
    },
    {
      "cell_type": "code",
      "source": [],
      "metadata": {
        "id": "zUdnAiCeslHL"
      },
      "execution_count": null,
      "outputs": []
    },
    {
      "cell_type": "markdown",
      "source": [
        "**Explicit Type Conversion in Python**\n",
        "\n",
        "--In this method, Python needs user involvement to convert the variable data type into the required data type using in build function.\n"
      ],
      "metadata": {
        "id": "wDCOVbljtRtU"
      }
    },
    {
      "cell_type": "code",
      "source": [
        "# string variable\n",
        "a = \"5.9\"\n",
        "\n",
        "# typecast to float\n",
        "n = float(a)\n",
        "\n",
        "print(n)\n",
        "print(type(n))"
      ],
      "metadata": {
        "colab": {
          "base_uri": "https://localhost:8080/"
        },
        "id": "y-vi_f9Pt8R9",
        "outputId": "735386b9-1be5-4945-d8ee-48be521a4ea4"
      },
      "execution_count": null,
      "outputs": [
        {
          "output_type": "stream",
          "name": "stdout",
          "text": [
            "5.9\n",
            "<class 'float'>\n"
          ]
        }
      ]
    },
    {
      "cell_type": "code",
      "source": [
        "# string variable\n",
        "a = \"5\"\n",
        "b = 't'\n",
        "\n",
        "# typecast to int\n",
        "n = int(a)\n",
        "\n",
        "print(n)\n",
        "print(type(n))\n",
        "\n"
      ],
      "metadata": {
        "colab": {
          "base_uri": "https://localhost:8080/"
        },
        "id": "ahg6KBl0t_AN",
        "outputId": "c217737e-43ee-42c2-98c6-7d1f8d0bc1c3"
      },
      "execution_count": null,
      "outputs": [
        {
          "output_type": "stream",
          "name": "stdout",
          "text": [
            "5\n",
            "<class 'int'>\n"
          ]
        }
      ]
    },
    {
      "cell_type": "markdown",
      "source": [
        "**11.What is the purpose of conditional statements in Python?**\n",
        "\n",
        "--Conditional statements in Python are used to execute certain blocks of code based on specific conditions. They allow you to control the flow of your program based on different scenarios.\n",
        "conditional statements are:\n",
        "    -if\n",
        "    -if else\n",
        "    -if elif else\n",
        "    -nested if\n",
        "\n",
        "    For Example--\n",
        "    "
      ],
      "metadata": {
        "id": "QxBLS7ai357w"
      }
    },
    {
      "cell_type": "code",
      "source": [
        "age = 20\n",
        "\n",
        "if age >= 18:\n",
        "    print(\"Eligible to vote.\")"
      ],
      "metadata": {
        "colab": {
          "base_uri": "https://localhost:8080/"
        },
        "id": "9y_gaPA5wQnf",
        "outputId": "0d7fea81-e51b-4c4a-feba-cca5bd798f4a"
      },
      "execution_count": null,
      "outputs": [
        {
          "output_type": "stream",
          "name": "stdout",
          "text": [
            "Eligible to vote.\n"
          ]
        }
      ]
    },
    {
      "cell_type": "markdown",
      "source": [
        "12 **How does the elif statement work**?\n",
        "---elif statement in Python stands for \"else if.\" It allows us to check multiple conditions , providing a way to execute different blocks of code based on which condition is true. Using elif statements makes our code more readable and efficient by eliminating the need for multiple nested if statements."
      ],
      "metadata": {
        "id": "gAqhmnZh2FK_"
      }
    },
    {
      "cell_type": "code",
      "source": [
        "age = 25\n",
        "\n",
        "if age <= 12:\n",
        "    print(\"Child.\")\n",
        "elif age <= 19:\n",
        "    print(\"Teenager.\")\n",
        "elif age <= 35:\n",
        "    print(\"Young adult.\")\n",
        "else:\n",
        "    print(\"Adult.\")"
      ],
      "metadata": {
        "colab": {
          "base_uri": "https://localhost:8080/"
        },
        "id": "7dFdrRsb2jqt",
        "outputId": "5611f428-f00e-4792-8657-58a5128a69f2"
      },
      "execution_count": null,
      "outputs": [
        {
          "output_type": "stream",
          "name": "stdout",
          "text": [
            "Young adult.\n"
          ]
        }
      ]
    },
    {
      "cell_type": "markdown",
      "source": [
        "The code checks the value of age using if-elif-else. Since age is 25, it skips the first two conditions (age <= 12 and age <= 19), and the third condition (age <= 35) is True, so it prints \"Young adult.\""
      ],
      "metadata": {
        "id": "w3006bWP3gEX"
      }
    },
    {
      "cell_type": "markdown",
      "source": [
        "13.**What is the difference between for and while loops?**\n",
        "\n",
        "**For loop**\n",
        "\n",
        "\n",
        "*   The for loop is used when you know in advance how many times you want to\n",
        "execute the block of code.\n",
        "*   It iterates over a sequence (e.g., a list, tuple, string, or range) and executes the block of code for each item in the sequence.\n",
        "\n",
        "\n",
        "*   The loop variable (variable) takes the value of each item in the sequence during each iteration.\n",
        "\n",
        "\n",
        "\n",
        "\n",
        "\n"
      ],
      "metadata": {
        "id": "KrbwUQ1F4VJ2"
      }
    },
    {
      "cell_type": "code",
      "source": [
        "for i in range(5):\n",
        "    print(i)"
      ],
      "metadata": {
        "colab": {
          "base_uri": "https://localhost:8080/"
        },
        "id": "VySa1rCL6IFe",
        "outputId": "8b2fcfd6-d7a6-4730-9702-a26e2756a072"
      },
      "execution_count": null,
      "outputs": [
        {
          "output_type": "stream",
          "name": "stdout",
          "text": [
            "0\n",
            "1\n",
            "2\n",
            "3\n",
            "4\n"
          ]
        }
      ]
    },
    {
      "cell_type": "markdown",
      "source": [
        "**While Loop**\n",
        "\n",
        "*   The while loop is used when you don't know in advance how many times you want to execute the block of code. It continues to execute as long as the specified condition is true.\n",
        "*  It's important to make sure that the condition eventually becomes false; otherwise, the loop will run indefinitely, resulting in an infinite loop.\n",
        "\n",
        "\n"
      ],
      "metadata": {
        "id": "w-agkaaI7H3N"
      }
    },
    {
      "cell_type": "code",
      "source": [],
      "metadata": {
        "id": "J3Yr3SML8GWe"
      },
      "execution_count": null,
      "outputs": []
    },
    {
      "cell_type": "code",
      "source": [
        "count = 0\n",
        "while count < 5:\n",
        "    print(count)\n",
        "    count += 1"
      ],
      "metadata": {
        "colab": {
          "base_uri": "https://localhost:8080/"
        },
        "id": "rlvC8R9t7diW",
        "outputId": "aaf125cc-116a-47d7-f83d-9ff6ac5c665f"
      },
      "execution_count": null,
      "outputs": [
        {
          "output_type": "stream",
          "name": "stdout",
          "text": [
            "0\n",
            "1\n",
            "2\n",
            "3\n",
            "4\n"
          ]
        }
      ]
    },
    {
      "cell_type": "markdown",
      "source": [
        "# **14.Describe a scenario where a while loop is more suitable than a for loop.**\n",
        "\n",
        "-- A While loop is generally better than a for loop when we don't know how many iterations need. that is continue looping until a condition becomes false.\n",
        "rather than over a fixed sequence or range.\n",
        "For Example:\n",
        "Suppose asking a user to enter a password and want to keep prompting them untill they enter the correct one :"
      ],
      "metadata": {
        "id": "I_38E18I8Hy1"
      }
    },
    {
      "cell_type": "code",
      "source": [
        "correct_pswd = \"Pwskills123\"\n",
        "user_input = input (\" Please Enter the  password : \")\n",
        "while user_input != correct_pswd:\n",
        "  user_input = input (\" Please Enter the correct password : \")\n",
        "print(\"Password accepted\")"
      ],
      "metadata": {
        "colab": {
          "base_uri": "https://localhost:8080/"
        },
        "id": "Mdk-w4cEAN7u",
        "outputId": "5c00f988-6cbc-4edc-b38c-f8a343d75d5c"
      },
      "execution_count": null,
      "outputs": [
        {
          "output_type": "stream",
          "name": "stdout",
          "text": [
            " Please Enter the  password : Pwskills\n",
            " Please Enter the correct password : Pwskills123\n",
            "Password accepted\n"
          ]
        }
      ]
    },
    {
      "cell_type": "markdown",
      "source": [
        "**Practical Questions**\n",
        "\n",
        "1.Write a Python program to print \"Hello, World"
      ],
      "metadata": {
        "id": "cLXt12ubhtbD"
      }
    },
    {
      "cell_type": "code",
      "source": [
        "print(\"Hello World\")"
      ],
      "metadata": {
        "colab": {
          "base_uri": "https://localhost:8080/"
        },
        "id": "oX_WZ7FBiBZh",
        "outputId": "4c07f960-6013-40ac-e45f-7862058b4329"
      },
      "execution_count": null,
      "outputs": [
        {
          "output_type": "stream",
          "name": "stdout",
          "text": [
            "Hello World\n"
          ]
        }
      ]
    },
    {
      "cell_type": "code",
      "source": [
        "#Write a Python program that displays your name and age\n",
        "print(\"My name is Priyanka Chattaraj\")\n",
        "print(\"My age is 38 yrs.\")\n",
        "\n"
      ],
      "metadata": {
        "colab": {
          "base_uri": "https://localhost:8080/"
        },
        "id": "a7Mivz1JiFvA",
        "outputId": "12b2173e-3a6d-4fa1-94d5-cef15a66309f"
      },
      "execution_count": null,
      "outputs": [
        {
          "output_type": "stream",
          "name": "stdout",
          "text": [
            "My name is Priyanka Chattaraj\n",
            "My age is 38 yrs.\n"
          ]
        }
      ]
    },
    {
      "cell_type": "code",
      "source": [
        "#Write code to print all the pre-defined keywords in Python using the keyword librar\n",
        "import keyword\n",
        "print (keyword.kwlist)"
      ],
      "metadata": {
        "colab": {
          "base_uri": "https://localhost:8080/"
        },
        "id": "KaJz6fQ8ikXS",
        "outputId": "f1b17080-5ba7-4b3b-931d-7a395f98e524"
      },
      "execution_count": null,
      "outputs": [
        {
          "output_type": "stream",
          "name": "stdout",
          "text": [
            "['False', 'None', 'True', 'and', 'as', 'assert', 'async', 'await', 'break', 'class', 'continue', 'def', 'del', 'elif', 'else', 'except', 'finally', 'for', 'from', 'global', 'if', 'import', 'in', 'is', 'lambda', 'nonlocal', 'not', 'or', 'pass', 'raise', 'return', 'try', 'while', 'with', 'yield']\n"
          ]
        }
      ]
    },
    {
      "cell_type": "code",
      "source": [],
      "metadata": {
        "id": "QSQu8Gg2kDJu"
      },
      "execution_count": null,
      "outputs": []
    },
    {
      "cell_type": "code",
      "source": [
        "#Write a program that checks if a given word is a Python keyword.\n",
        "a=input(\"enter a word : \")\n",
        "import keyword\n",
        "if a in keyword.kwlist:\n",
        "  print(\"It is a keyword\")\n",
        "else:\n",
        "  print(\"It is not a keyword\")\n",
        "\n"
      ],
      "metadata": {
        "colab": {
          "base_uri": "https://localhost:8080/"
        },
        "id": "aSkOv05AjIsh",
        "outputId": "76b5640b-002f-4a56-9eb4-9e57e54ecbe9"
      },
      "execution_count": null,
      "outputs": [
        {
          "output_type": "stream",
          "name": "stdout",
          "text": [
            "enter a word : False\n",
            "It is a keyword\n"
          ]
        }
      ]
    },
    {
      "cell_type": "code",
      "source": [
        "#Create a list and tuple in Python, and demonstrate how attempting to change an element works differently for each.\n",
        "fruits = [\"apple\", \"banana\", \"orange\"]\n",
        "fruits[1] = \"grape\"  # Modifying the second element: [\"apple\", \"grape\", \"orange\"]\n",
        "print(fruits)"
      ],
      "metadata": {
        "id": "rqch3P3WPLy6",
        "colab": {
          "base_uri": "https://localhost:8080/"
        },
        "outputId": "d99b6f20-712b-4c4a-c9d3-bd8516b6ba2a"
      },
      "execution_count": null,
      "outputs": [
        {
          "output_type": "stream",
          "name": "stdout",
          "text": [
            "['apple', 'grape', 'orange']\n"
          ]
        }
      ]
    },
    {
      "cell_type": "code",
      "source": [
        "# This will cause a TypeError because tuples objects does nit suppot item assignment."
      ],
      "metadata": {
        "colab": {
          "base_uri": "https://localhost:8080/",
          "height": 185
        },
        "id": "cOhMYfUsxauN",
        "outputId": "9b65e1ad-90fd-4978-b06d-8dc59598c7f8"
      },
      "execution_count": 1,
      "outputs": [
        {
          "output_type": "error",
          "ename": "TypeError",
          "evalue": "'tuple' object does not support item assignment",
          "traceback": [
            "\u001b[0;31m---------------------------------------------------------------------------\u001b[0m",
            "\u001b[0;31mTypeError\u001b[0m                                 Traceback (most recent call last)",
            "\u001b[0;32m<ipython-input-1-bb8434ecb069>\u001b[0m in \u001b[0;36m<cell line: 0>\u001b[0;34m()\u001b[0m\n\u001b[1;32m      1\u001b[0m \u001b[0mfruits\u001b[0m \u001b[0;34m=\u001b[0m \u001b[0;34m(\u001b[0m\u001b[0;34m\"apple\"\u001b[0m\u001b[0;34m,\u001b[0m \u001b[0;34m\"banana\"\u001b[0m\u001b[0;34m,\u001b[0m \u001b[0;34m\"orange\"\u001b[0m\u001b[0;34m)\u001b[0m\u001b[0;34m\u001b[0m\u001b[0;34m\u001b[0m\u001b[0m\n\u001b[0;32m----> 2\u001b[0;31m \u001b[0mfruits\u001b[0m\u001b[0;34m[\u001b[0m\u001b[0;36m1\u001b[0m\u001b[0;34m]\u001b[0m \u001b[0;34m=\u001b[0m \u001b[0;34m\"grape\"\u001b[0m  \u001b[0;31m# Modifying the second element: [\"apple\", \"grape\", \"orange\"]\u001b[0m\u001b[0;34m\u001b[0m\u001b[0;34m\u001b[0m\u001b[0m\n\u001b[0m\u001b[1;32m      3\u001b[0m \u001b[0mprint\u001b[0m\u001b[0;34m(\u001b[0m\u001b[0mfruits\u001b[0m\u001b[0;34m)\u001b[0m\u001b[0;34m\u001b[0m\u001b[0;34m\u001b[0m\u001b[0m\n",
            "\u001b[0;31mTypeError\u001b[0m: 'tuple' object does not support item assignment"
          ]
        }
      ]
    },
    {
      "cell_type": "code",
      "source": [
        "# Write a function to demonstrate the behavior of mutable and immutable arguments\n",
        "\n",
        "# Mutable Example (list)\n",
        "a= [1,2,3]\n",
        "b=a      # b refers to the same list as a\n",
        "b.append(4) # Modify the list in place.\n",
        "print(\"Mutable Example\")\n",
        "print(\"a== \",a)\n",
        "print(\"b== \",b)\n"
      ],
      "metadata": {
        "id": "YvI36UlcyPRG",
        "colab": {
          "base_uri": "https://localhost:8080/"
        },
        "outputId": "11f0109b-d384-4b70-8d4a-ed33eebcda4f"
      },
      "execution_count": 5,
      "outputs": [
        {
          "output_type": "stream",
          "name": "stdout",
          "text": [
            "Mutable Example\n",
            "a==  [1, 2, 3, 4]\n",
            "b==  [1, 2, 3, 4]\n"
          ]
        }
      ]
    },
    {
      "cell_type": "code",
      "source": [
        "# Immutable Example\n",
        "a=(1,2,3)\n",
        "b=a      # b refers to the same tuple as a\n",
        "b=(4,5,6)  #Modify the tuple\n",
        "print(\"Immutable Example\")\n",
        "print(\"a= \",a) # a remains same (1,2,3)\n",
        "print(\"b= \",b)"
      ],
      "metadata": {
        "colab": {
          "base_uri": "https://localhost:8080/"
        },
        "id": "_TltUa9syOOG",
        "outputId": "e1379d23-64a1-445b-bc29-442fc2ad5b2d"
      },
      "execution_count": 6,
      "outputs": [
        {
          "output_type": "stream",
          "name": "stdout",
          "text": [
            "Immutable Example\n",
            "a==  (1, 2, 3)\n",
            "b==  (4, 5, 6)\n"
          ]
        }
      ]
    },
    {
      "cell_type": "code",
      "source": [
        "# Write a function to demonstrate the behavior of immutable arguments\n",
        "def modify_number(num):\n",
        "    num += 10  # Modifying the number in the function\n",
        "\n",
        "my_number = 5\n",
        "modify_number(my_number)\n",
        "print(my_number)\n"
      ],
      "metadata": {
        "colab": {
          "base_uri": "https://localhost:8080/"
        },
        "id": "VIaqMjFtt87E",
        "outputId": "763fe22e-d433-4125-f067-a377acf5dfc6"
      },
      "execution_count": 3,
      "outputs": [
        {
          "output_type": "stream",
          "name": "stdout",
          "text": [
            "5\n"
          ]
        }
      ]
    },
    {
      "cell_type": "code",
      "source": [
        "# Write a program that performs basic arithmetic operations on two user-input numbers.\n",
        "a=int(input(\"enter a number : \"))\n",
        "b=int(input(\"enter a number : \"))\n",
        "Add = a+b\n",
        "sub = a-b\n",
        "mul = a*b\n",
        "div = a/b\n",
        "rem = a%b\n",
        "print(\"Addition : \",Add)\n",
        "print(\"Subtraction : \",sub)\n",
        "print(\"Multiplication : \",mul)\n",
        "print(\"Division : \",div)\n",
        "print(\"Remainder : \",rem)\n"
      ],
      "metadata": {
        "colab": {
          "base_uri": "https://localhost:8080/"
        },
        "id": "gRz-WUb8yJL3",
        "outputId": "2b2a7034-f374-4ffa-df68-c5a067e1cbbf"
      },
      "execution_count": null,
      "outputs": [
        {
          "output_type": "stream",
          "name": "stdout",
          "text": [
            "enter a number : 12\n",
            "enter a number : 6\n",
            "Addition :  18\n",
            "Subtraction :  6\n",
            "Multiplication :  72\n",
            "Division :  2.0\n",
            "Remainder :  0\n"
          ]
        }
      ]
    },
    {
      "cell_type": "code",
      "source": [
        "#Write a program to demonstrate the use of logical operators.\n",
        "a=int(input(\"enter a number : \"))\n",
        "b=int(input(\"enter a number : \"))\n",
        "if a>0 and b>0:\n",
        "  print(\"True\")\n",
        "else:\n",
        "  print(\"False\")"
      ],
      "metadata": {
        "colab": {
          "base_uri": "https://localhost:8080/"
        },
        "id": "zT3SH9b7yukG",
        "outputId": "40d0f410-edc3-4584-c56f-69ef9d416688"
      },
      "execution_count": null,
      "outputs": [
        {
          "output_type": "stream",
          "name": "stdout",
          "text": [
            "enter a number : 2\n",
            "enter a number : 0\n",
            "False\n"
          ]
        }
      ]
    },
    {
      "cell_type": "code",
      "source": [
        "# logical and\n",
        "print(True and True)     # True\n",
        "print(True and False)    # False\n",
        "\n",
        "# logical OR\n",
        "print(True or False)     # True\n",
        "\n",
        "# logical NOT\n",
        "print(not True)          # False"
      ],
      "metadata": {
        "colab": {
          "base_uri": "https://localhost:8080/"
        },
        "id": "PcA6XAa3zoDX",
        "outputId": "cd766638-ec91-49f7-8419-53911ad4d71a"
      },
      "execution_count": null,
      "outputs": [
        {
          "output_type": "stream",
          "name": "stdout",
          "text": [
            "True\n",
            "False\n",
            "True\n",
            "False\n"
          ]
        }
      ]
    },
    {
      "cell_type": "code",
      "source": [
        "# Write a Python program to convert user input from string to integer, float, and boolean types.\n",
        "a=input(\"enter a number : \")\n",
        "b=int(a)\n",
        "c=float(a)\n",
        "d=bool(a)\n",
        "print(b)\n",
        "print(c)\n",
        "print(d)"
      ],
      "metadata": {
        "colab": {
          "base_uri": "https://localhost:8080/"
        },
        "id": "04owORbhz_1v",
        "outputId": "2c671304-6cb8-4a99-8af9-bf291ababb35"
      },
      "execution_count": null,
      "outputs": [
        {
          "output_type": "stream",
          "name": "stdout",
          "text": [
            "enter a number : 456\n",
            "456\n",
            "456.0\n",
            "True\n"
          ]
        }
      ]
    },
    {
      "cell_type": "code",
      "source": [
        "# Write code to demonstrate type casting with list elements.\n",
        "lst = [1, 2, 3, 4, 5]\n",
        "str_lst = str(lst)\n",
        "print(str_lst)\n"
      ],
      "metadata": {
        "colab": {
          "base_uri": "https://localhost:8080/"
        },
        "id": "Z9CHLY-41pjN",
        "outputId": "cd2495c9-d322-47f1-a71f-4e4404d8e343"
      },
      "execution_count": null,
      "outputs": [
        {
          "output_type": "stream",
          "name": "stdout",
          "text": [
            "[1, 2, 3, 4, 5]\n"
          ]
        }
      ]
    },
    {
      "cell_type": "code",
      "source": [
        "type(lst) #list type"
      ],
      "metadata": {
        "colab": {
          "base_uri": "https://localhost:8080/"
        },
        "id": "sA35R_xO230V",
        "outputId": "5d324df4-dccb-4ea1-a46f-0cdb2de6e530"
      },
      "execution_count": null,
      "outputs": [
        {
          "output_type": "execute_result",
          "data": {
            "text/plain": [
              "list"
            ]
          },
          "metadata": {},
          "execution_count": 19
        }
      ]
    },
    {
      "cell_type": "code",
      "source": [
        "type(lst[1]) # Element in lst is int type"
      ],
      "metadata": {
        "colab": {
          "base_uri": "https://localhost:8080/"
        },
        "id": "m_vwaiem3e4_",
        "outputId": "e4420e66-7c2f-476f-9507-93c1ec290296"
      },
      "execution_count": null,
      "outputs": [
        {
          "output_type": "execute_result",
          "data": {
            "text/plain": [
              "int"
            ]
          },
          "metadata": {},
          "execution_count": 20
        }
      ]
    },
    {
      "cell_type": "code",
      "source": [
        "type(str_lst) # converted to String type\n"
      ],
      "metadata": {
        "colab": {
          "base_uri": "https://localhost:8080/"
        },
        "id": "Gko1zZbG14hB",
        "outputId": "517987b3-f50b-4125-c156-bd46459df383"
      },
      "execution_count": null,
      "outputs": [
        {
          "output_type": "execute_result",
          "data": {
            "text/plain": [
              "str"
            ]
          },
          "metadata": {},
          "execution_count": 13
        }
      ]
    },
    {
      "cell_type": "code",
      "source": [
        "type(str_lst[0]) # elements of list also typecast to sring type"
      ],
      "metadata": {
        "colab": {
          "base_uri": "https://localhost:8080/"
        },
        "id": "cIBkbela2Byo",
        "outputId": "1a9a05b0-517b-40a6-9688-76cd3f1004e5"
      },
      "execution_count": null,
      "outputs": [
        {
          "output_type": "execute_result",
          "data": {
            "text/plain": [
              "str"
            ]
          },
          "metadata": {},
          "execution_count": 14
        }
      ]
    },
    {
      "cell_type": "code",
      "source": [
        "type (str_lst[2])"
      ],
      "metadata": {
        "colab": {
          "base_uri": "https://localhost:8080/"
        },
        "id": "qKdFRcMk2B7N",
        "outputId": "d665b099-2e5c-4339-c735-5c6fafc6fc5c"
      },
      "execution_count": null,
      "outputs": [
        {
          "output_type": "execute_result",
          "data": {
            "text/plain": [
              "str"
            ]
          },
          "metadata": {},
          "execution_count": 15
        }
      ]
    },
    {
      "cell_type": "code",
      "source": [
        "#Write a program that checks if a number is positive, negative, or zero.\n",
        "a=int(input(\"enter a number : \"))\n",
        "if a>0:\n",
        "  print(\"Positive\")\n",
        "elif a<0:\n",
        "  print(\"Negative\")\n",
        "else:\n",
        "  print(\"Zero\")"
      ],
      "metadata": {
        "colab": {
          "base_uri": "https://localhost:8080/"
        },
        "id": "osgkl2Ui3yNi",
        "outputId": "71258040-164b-4f0c-8f15-2f52460905a2"
      },
      "execution_count": null,
      "outputs": [
        {
          "output_type": "stream",
          "name": "stdout",
          "text": [
            "enter a number : -2\n",
            "Negative\n"
          ]
        }
      ]
    },
    {
      "cell_type": "code",
      "source": [
        "#Write a for loop to print numbers from 1 to 10.\n",
        "for i in range(1,11):\n",
        "  print(i)"
      ],
      "metadata": {
        "colab": {
          "base_uri": "https://localhost:8080/"
        },
        "id": "qTuS3-N14CRe",
        "outputId": "2e23c149-6a79-42b1-b0d7-664b792e14cf"
      },
      "execution_count": null,
      "outputs": [
        {
          "output_type": "stream",
          "name": "stdout",
          "text": [
            "1\n",
            "2\n",
            "3\n",
            "4\n",
            "5\n",
            "6\n",
            "7\n",
            "8\n",
            "9\n",
            "10\n"
          ]
        }
      ]
    },
    {
      "cell_type": "code",
      "source": [
        "#Write a Python program to find the sum of all even numbers between 1 and 50.\n",
        "Total = 0\n",
        "for i in range (0,51):\n",
        "  if i%2==0:\n",
        "\n",
        "    Total += i\n",
        "print(Total)"
      ],
      "metadata": {
        "id": "5jZ_BRc_kO0C",
        "colab": {
          "base_uri": "https://localhost:8080/"
        },
        "outputId": "f16b4062-58e8-4568-a052-4bf4fd77cc37"
      },
      "execution_count": null,
      "outputs": [
        {
          "output_type": "stream",
          "name": "stdout",
          "text": [
            "650\n"
          ]
        }
      ]
    },
    {
      "cell_type": "code",
      "source": [
        "# Write a program to reverse a string using a while loop.\n",
        "str = input(\"Enter a string: \")\n",
        "reversed_str = \"\"\n",
        "index = len(str) - 1\n",
        "\n",
        "while index >= 0:\n",
        "    reversed_str += str[index]\n",
        "    index -= 1\n",
        "\n",
        "print(\"Reversed string:\", reversed_str)\n"
      ],
      "metadata": {
        "id": "SfgLdREJOOpL",
        "colab": {
          "base_uri": "https://localhost:8080/"
        },
        "outputId": "d8420a95-3ce0-40d2-cd6a-ddd426e7d102"
      },
      "execution_count": null,
      "outputs": [
        {
          "output_type": "stream",
          "name": "stdout",
          "text": [
            "Enter a string: Priyanka\n",
            "Reversed string: aknayirP\n"
          ]
        }
      ]
    },
    {
      "cell_type": "code",
      "source": [
        "## Write a program to reverse a string using a for loop.\n",
        "\n",
        "str = input(\"Enter a string: \")\n",
        "reversed_str = \"\"\n",
        "\n",
        "for char in str:\n",
        "    reversed_str = char + reversed_str\n",
        "\n",
        "print(\"Reversed string:\", reversed_str)\n",
        "\n"
      ],
      "metadata": {
        "colab": {
          "base_uri": "https://localhost:8080/"
        },
        "id": "tjmL-IgM4sD_",
        "outputId": "8349d1d9-89a0-44cb-ac29-15cae2f9b13e"
      },
      "execution_count": null,
      "outputs": [
        {
          "output_type": "stream",
          "name": "stdout",
          "text": [
            "Enter a string: piu\n",
            "Reversed string: uip\n"
          ]
        }
      ]
    },
    {
      "cell_type": "code",
      "source": [
        "#Write a Python program to calculate the factorial of a number provided by the user using a while loop\n",
        "num=int(input(\"enter a number : \"))\n",
        "fact=1\n",
        "while num>0:\n",
        "  fact=fact*num\n",
        "  num=num-1\n",
        "print(fact)"
      ],
      "metadata": {
        "colab": {
          "base_uri": "https://localhost:8080/"
        },
        "id": "kq3m_ySS6HGZ",
        "outputId": "37f795fa-50d5-47bc-d6e9-6ed154cf872e"
      },
      "execution_count": null,
      "outputs": [
        {
          "output_type": "stream",
          "name": "stdout",
          "text": [
            "enter a number : 5\n",
            "120\n"
          ]
        }
      ]
    },
    {
      "cell_type": "code",
      "source": [],
      "metadata": {
        "id": "XrEMvH9v7R33"
      },
      "execution_count": null,
      "outputs": []
    }
  ]
}